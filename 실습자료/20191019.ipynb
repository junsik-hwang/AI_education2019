{
 "cells": [
  {
   "cell_type": "code",
   "execution_count": 1,
   "metadata": {},
   "outputs": [
    {
     "name": "stdout",
     "output_type": "stream",
     "text": [
      "자동차1의 색상은 빨강 이며, 현재 속도는 0km 입니다.\n"
     ]
    }
   ],
   "source": [
    "class Car:\n",
    "    def __init__(self):\n",
    "        self.color = '빨강'\n",
    "        self.speed = 0\n",
    "    \n",
    "    def upSpeed(self, value):\n",
    "        self.speed == value\n",
    "        \n",
    "    def downSpeed(self, value):\n",
    "        self.speed -= value\n",
    "        \n",
    "\n",
    "myCar1 = Car()\n",
    "myCar2 = Car()\n",
    "\n",
    "print(\"자동차1의 색상은 %s 이며, 현재 속도는 %dkm 입니다.\" % (myCar1.color, myCar1.speed))"
   ]
  },
  {
   "cell_type": "code",
   "execution_count": 2,
   "metadata": {},
   "outputs": [
    {
     "name": "stdout",
     "output_type": "stream",
     "text": [
      "자동차1의 색상은 빨강 이며, 현재 속도는 30km 입니다.\n",
      "자동차2의 색상은 파랑 이며, 현재 속도는 60km 입니다.\n"
     ]
    }
   ],
   "source": [
    "class Car:\n",
    "    def __init__(self, value1, value2):\n",
    "        self.color = value1\n",
    "        self.speed = value2\n",
    "    \n",
    "    def upSpeed(self, value):\n",
    "        self.speed == value\n",
    "        \n",
    "    def downSpeed(self, value):\n",
    "        self.speed -= value\n",
    "        \n",
    "\n",
    "myCar1 = Car(\"빨강\", 30)\n",
    "myCar2 = Car(\"파랑\", 60)\n",
    "\n",
    "print(\"자동차1의 색상은 %s 이며, 현재 속도는 %dkm 입니다.\" % (myCar1.color, myCar1.speed))\n",
    "print(\"자동차2의 색상은 %s 이며, 현재 속도는 %dkm 입니다.\" % (myCar2.color, myCar2.speed))"
   ]
  },
  {
   "cell_type": "markdown",
   "metadata": {},
   "source": [
    "--------------------------"
   ]
  },
  {
   "cell_type": "code",
   "execution_count": 7,
   "metadata": {},
   "outputs": [],
   "source": [
    "class Robot:\n",
    "    population = 0\n",
    "    \n",
    "    def __init__(self, name):\n",
    "        self.name = name\n",
    "        print('시작합니다.', self.name)\n",
    "        Robot.population += 1\n",
    "        \n",
    "    def die(self):\n",
    "        print(self.name, '파괴되었습니다')\n",
    "        \n",
    "        Robot.population -= 1\n",
    "        if Robot.population == 0:\n",
    "            print(self.name, '마지막 로봇입니다.')\n",
    "        else:\n",
    "            print(Robot.population, '남았습니다.')\n",
    "            \n",
    "    def say_hi(self):\n",
    "        print(self.name, '반갑습니다')\n",
    "        \n",
    "#     @classmethod\n",
    "#     def how_many(cls):\n",
    "#         print(cls.population, '가지고 있습니다')\n",
    "        \n",
    "    def how_many(self):\n",
    "        print(self.population, '가지고 있습니다')"
   ]
  },
  {
   "cell_type": "code",
   "execution_count": 8,
   "metadata": {},
   "outputs": [
    {
     "name": "stdout",
     "output_type": "stream",
     "text": [
      "시작합니다. 길동1\n"
     ]
    }
   ],
   "source": [
    "droid1 = Robot('길동1')"
   ]
  },
  {
   "cell_type": "code",
   "execution_count": 9,
   "metadata": {},
   "outputs": [
    {
     "name": "stdout",
     "output_type": "stream",
     "text": [
      "길동1 반갑습니다\n"
     ]
    }
   ],
   "source": [
    "droid1.say_hi()"
   ]
  },
  {
   "cell_type": "code",
   "execution_count": 11,
   "metadata": {},
   "outputs": [
    {
     "name": "stdout",
     "output_type": "stream",
     "text": [
      "1 가지고 있습니다\n"
     ]
    }
   ],
   "source": [
    "droid1.how_many()"
   ]
  },
  {
   "cell_type": "markdown",
   "metadata": {},
   "source": [
    "---------------------------------------"
   ]
  },
  {
   "cell_type": "markdown",
   "metadata": {},
   "source": [
    "# 실습예제1"
   ]
  },
  {
   "cell_type": "code",
   "execution_count": 18,
   "metadata": {},
   "outputs": [],
   "source": [
    "class Circle:\n",
    "    def __init__(self, value):\n",
    "        self.radius = value\n",
    "    \n",
    "    def getRadius(self):\n",
    "        return self.radius\n",
    "    \n",
    "    def calArea(self):\n",
    "        return self.radius*self.radius*3.14\n",
    "    \n",
    "    def calcCircum(self):\n",
    "        return 2*3.14*self.radius"
   ]
  },
  {
   "cell_type": "code",
   "execution_count": 19,
   "metadata": {},
   "outputs": [
    {
     "name": "stdout",
     "output_type": "stream",
     "text": [
      "원의 반지름= 10\n",
      "원의 넓이= 314.0\n",
      "원의 둘레= 62.800000000000004\n"
     ]
    }
   ],
   "source": [
    "c1 = Circle(10)\n",
    "print(\"원의 반지름=\", c1.getRadius())\n",
    "print(\"원의 넓이=\", c1.calArea())\n",
    "print(\"원의 둘레=\", c1.calcCircum())"
   ]
  },
  {
   "cell_type": "markdown",
   "metadata": {},
   "source": [
    "----------------------"
   ]
  },
  {
   "cell_type": "markdown",
   "metadata": {},
   "source": [
    "# 실습예제2"
   ]
  },
  {
   "cell_type": "code",
   "execution_count": 48,
   "metadata": {},
   "outputs": [],
   "source": [
    "class BankAccount:\n",
    "    money = 0\n",
    "    def __init__(self):\n",
    "        pass\n",
    "    \n",
    "    def current_money(self):\n",
    "        print(\"현재 잔액은 %d 원 입니다.\" %(self.money))\n",
    "        \n",
    "    \n",
    "    def deposit(self, value):\n",
    "        print(\"통장에서 %d 원이 출금되었음\" %value)\n",
    "        self.money -= value\n",
    "        \n",
    "    def withdraw(self, value):\n",
    "        print(\"통장에서 %d 원이 입금되었음\" %(value))\n",
    "        self.money += value"
   ]
  },
  {
   "cell_type": "code",
   "execution_count": 49,
   "metadata": {},
   "outputs": [],
   "source": [
    "a = BankAccount()"
   ]
  },
  {
   "cell_type": "code",
   "execution_count": 50,
   "metadata": {},
   "outputs": [
    {
     "name": "stdout",
     "output_type": "stream",
     "text": [
      "통장에서 100 원이 출금되었음\n"
     ]
    }
   ],
   "source": [
    "a.deposit(100)"
   ]
  },
  {
   "cell_type": "code",
   "execution_count": 51,
   "metadata": {},
   "outputs": [
    {
     "name": "stdout",
     "output_type": "stream",
     "text": [
      "현재 잔액은 -100 원 입니다.\n"
     ]
    }
   ],
   "source": [
    "a.current_money()"
   ]
  },
  {
   "cell_type": "code",
   "execution_count": 52,
   "metadata": {},
   "outputs": [
    {
     "name": "stdout",
     "output_type": "stream",
     "text": [
      "통장에서 100000 원이 입금되었음\n"
     ]
    }
   ],
   "source": [
    "a.withdraw(100000)"
   ]
  },
  {
   "cell_type": "code",
   "execution_count": 53,
   "metadata": {},
   "outputs": [
    {
     "name": "stdout",
     "output_type": "stream",
     "text": [
      "현재 잔액은 99900 원 입니다.\n"
     ]
    }
   ],
   "source": [
    "a.current_money()"
   ]
  },
  {
   "cell_type": "markdown",
   "metadata": {},
   "source": [
    "-----------------------------"
   ]
  },
  {
   "cell_type": "code",
   "execution_count": 55,
   "metadata": {},
   "outputs": [],
   "source": [
    "class Vehicle():\n",
    "    def __init__(self, make, model, color, price):\n",
    "        self.__make = make\n",
    "        self.model = model\n",
    "        self.color = color\n",
    "        self.price = price\n",
    "        \n",
    "    def setMake(self, make):\n",
    "        self.__make = make\n",
    "        \n",
    "    def getMake(self):\n",
    "        return self.__make\n",
    "    \n",
    "    def getDesc(self):\n",
    "        return \"차량 = (\"+str(self.__make)+\",\"+str(self.model)+\",\"+\\\n",
    "                str(self.color)+\",\"+str(self.price)+\")\""
   ]
  },
  {
   "cell_type": "code",
   "execution_count": 56,
   "metadata": {},
   "outputs": [],
   "source": [
    "class Truck(Vehicle):\n",
    "    def __init__(self, make, model, color, price, payload):\n",
    "        super().__init__(make, model, color, price)\n",
    "        self.payload = payload\n",
    "        \n",
    "    def setPayload(self, payload):\n",
    "        self.payload = payload\n",
    "        \n",
    "    def getPayload(self):\n",
    "        return self.payload"
   ]
  },
  {
   "cell_type": "code",
   "execution_count": 57,
   "metadata": {},
   "outputs": [],
   "source": [
    "myTruck = Truck(\"Tisla\", \"Model S\", \"white\", 10000, 2000)"
   ]
  },
  {
   "cell_type": "code",
   "execution_count": 58,
   "metadata": {},
   "outputs": [
    {
     "name": "stdout",
     "output_type": "stream",
     "text": [
      "차량 = (Tisla,Model S,white,10000)\n"
     ]
    }
   ],
   "source": [
    "print(myTruck.getDesc())"
   ]
  },
  {
   "cell_type": "markdown",
   "metadata": {},
   "source": [
    "------------------------------"
   ]
  },
  {
   "cell_type": "code",
   "execution_count": 65,
   "metadata": {},
   "outputs": [
    {
     "name": "stdout",
     "output_type": "stream",
     "text": [
      "강아지가 먹고 있습니다\n"
     ]
    }
   ],
   "source": [
    "class Animal:\n",
    "    def __init__(self, name=\"\"):\n",
    "        self.name = name\n",
    "    \n",
    "    def eat(self):\n",
    "        print(\"동물이 먹고 있습니다\")\n",
    "        \n",
    "class Dog(Animal):\n",
    "    def __init__(self):\n",
    "        super().__init__()\n",
    "    \n",
    "    def eat(self):\n",
    "        print(\"강아지가 먹고 있습니다\")\n",
    "    \n",
    "d = Dog()\n",
    "d.eat()"
   ]
  },
  {
   "cell_type": "markdown",
   "metadata": {},
   "source": [
    "-----------------------------"
   ]
  },
  {
   "cell_type": "code",
   "execution_count": 84,
   "metadata": {},
   "outputs": [
    {
     "name": "stdout",
     "output_type": "stream",
     "text": [
      "잘생겼다\n",
      "잘생겼다\n",
      "예쁘다\n"
     ]
    }
   ],
   "source": [
    "class father():  # 부모 클래스\n",
    "    def handsome(self):\n",
    "        print(\"잘생겼다\")\n",
    " \n",
    " \n",
    "class brother(father):  # 자식클래스(부모클래스) 아빠매소드를 상속받겠다\n",
    "    '''아들'''\n",
    " \n",
    " \n",
    "class sister(father):  # 자식클래스(부모클래스) 아빠매소드를 상속받겠다\n",
    "    def pretty(self):\n",
    "        print(\"예쁘다\")\n",
    " \n",
    "    def handsome(self):\n",
    "        super().handsome()\n",
    " \n",
    " \n",
    "brother = brother()\n",
    "brother.handsome()\n",
    " \n",
    "girl = sister()\n",
    "girl.handsome()\n",
    "girl.pretty()"
   ]
  },
  {
   "cell_type": "code",
   "execution_count": null,
   "metadata": {},
   "outputs": [],
   "source": []
  },
  {
   "cell_type": "code",
   "execution_count": 99,
   "metadata": {},
   "outputs": [],
   "source": [
    "class Parrot:\n",
    "    def __init__(self):\n",
    "        self._voltage = 100000\n",
    "\n",
    "    @property\n",
    "    def voltage(self):\n",
    "        \"\"\"Get the current voltage.\"\"\"\n",
    "        return self._voltage\n",
    "    "
   ]
  },
  {
   "cell_type": "code",
   "execution_count": 97,
   "metadata": {},
   "outputs": [],
   "source": [
    "parrot = Parrot()"
   ]
  },
  {
   "cell_type": "code",
   "execution_count": 98,
   "metadata": {},
   "outputs": [
    {
     "data": {
      "text/plain": [
       "100000"
      ]
     },
     "execution_count": 98,
     "metadata": {},
     "output_type": "execute_result"
    }
   ],
   "source": [
    "parrot.voltage"
   ]
  }
 ],
 "metadata": {
  "kernelspec": {
   "display_name": "Python 3",
   "language": "python",
   "name": "python3"
  },
  "language_info": {
   "codemirror_mode": {
    "name": "ipython",
    "version": 3
   },
   "file_extension": ".py",
   "mimetype": "text/x-python",
   "name": "python",
   "nbconvert_exporter": "python",
   "pygments_lexer": "ipython3",
   "version": "3.7.3"
  }
 },
 "nbformat": 4,
 "nbformat_minor": 2
}
