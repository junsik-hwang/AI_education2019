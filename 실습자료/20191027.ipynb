{
 "cells": [
  {
   "cell_type": "markdown",
   "metadata": {},
   "source": [
    "## 상속과 다형성"
   ]
  },
  {
   "cell_type": "code",
   "execution_count": 1,
   "metadata": {},
   "outputs": [
    {
     "name": "stdout",
     "output_type": "stream",
     "text": [
      "dog1:멍멍!\n",
      "dog2:멍멍!\n",
      "cat1:야옹!\n"
     ]
    }
   ],
   "source": [
    "class Animal:\n",
    "    def __init__(self, name):\n",
    "        self.name = name\n",
    "    def speak(self):\n",
    "        return '알 수 없음'\n",
    "\n",
    "class Dog(Animal):\n",
    "    def speak(self):\n",
    "        return '멍멍!'\n",
    "\n",
    "class Cat(Animal):\n",
    "    def speak(self):\n",
    "        return '야옹!'\n",
    "\n",
    "animalList = [Dog('dog1'), Dog('dog2'), Cat('cat1')]\n",
    "\n",
    "for a in animalList:\n",
    "    print(a.name + ':' + a.speak())"
   ]
  },
  {
   "cell_type": "markdown",
   "metadata": {},
   "source": [
    "-------------------"
   ]
  },
  {
   "cell_type": "code",
   "execution_count": 9,
   "metadata": {},
   "outputs": [
    {
     "name": "stdout",
     "output_type": "stream",
     "text": [
      "truck1:트럭을 운전합니다.\n",
      "truck2:트럭을 운전합니다.\n",
      "car1:승용차를 운전합니다.\n"
     ]
    }
   ],
   "source": [
    "class Vehicle:\n",
    "    def __init__(self, name = ''):\n",
    "        self.name = name\n",
    "        \n",
    "    def __call__(self):\n",
    "        return '나 불렀어?'\n",
    "\n",
    "class Car(Vehicle):\n",
    "    def drive(self):\n",
    "        return '승용차를 운전합니다.'\n",
    "\n",
    "class Truck(Vehicle):\n",
    "    def drive(self):\n",
    "        return '트럭을 운전합니다.'\n",
    "\n",
    "cars = [Truck('truck1'), Truck('truck2'), Car('car1')]\n",
    "\n",
    "for car in cars:\n",
    "    print(car.name+\":\"+car.drive())"
   ]
  },
  {
   "cell_type": "code",
   "execution_count": 10,
   "metadata": {},
   "outputs": [],
   "source": [
    "a = Vehicle()"
   ]
  },
  {
   "cell_type": "code",
   "execution_count": 11,
   "metadata": {},
   "outputs": [
    {
     "data": {
      "text/plain": [
       "'나 불렀어?'"
      ]
     },
     "execution_count": 11,
     "metadata": {},
     "output_type": "execute_result"
    }
   ],
   "source": [
    "a()"
   ]
  },
  {
   "cell_type": "code",
   "execution_count": 13,
   "metadata": {},
   "outputs": [
    {
     "data": {
      "text/plain": [
       "False"
      ]
     },
     "execution_count": 13,
     "metadata": {},
     "output_type": "execute_result"
    }
   ],
   "source": [
    "isinstance(a, Truck)"
   ]
  },
  {
   "cell_type": "code",
   "execution_count": 14,
   "metadata": {},
   "outputs": [
    {
     "data": {
      "text/plain": [
       "True"
      ]
     },
     "execution_count": 14,
     "metadata": {},
     "output_type": "execute_result"
    }
   ],
   "source": [
    "# isinstance() : 객체가 어떤 클래스로부터 만들어졌는지 확인\n",
    "isinstance(a, Vehicle)"
   ]
  },
  {
   "cell_type": "markdown",
   "metadata": {},
   "source": [
    "---------------------"
   ]
  },
  {
   "cell_type": "markdown",
   "metadata": {},
   "source": [
    "## Property 사용하기"
   ]
  },
  {
   "cell_type": "code",
   "execution_count": 19,
   "metadata": {},
   "outputs": [],
   "source": [
    "class Person:\n",
    "    def __init__(self):\n",
    "        self.__age = 0\n",
    "        \n",
    "    def get_age(self):\n",
    "        return self.__age\n",
    "    \n",
    "    def set_age(self, value):\n",
    "        self.__age = value"
   ]
  },
  {
   "cell_type": "code",
   "execution_count": 20,
   "metadata": {},
   "outputs": [
    {
     "name": "stdout",
     "output_type": "stream",
     "text": [
      "35\n"
     ]
    }
   ],
   "source": [
    "b = Person()\n",
    "b.set_age(35)\n",
    "print(b.get_age())"
   ]
  },
  {
   "cell_type": "code",
   "execution_count": 21,
   "metadata": {},
   "outputs": [],
   "source": [
    "class Person:\n",
    "    def __init__(self):\n",
    "        self.__age = 0\n",
    "        \n",
    "    @property\n",
    "    def age(self):\n",
    "        return self.__age\n",
    "    \n",
    "    @age.setter\n",
    "    def age(self, value):\n",
    "        self.__age = value"
   ]
  },
  {
   "cell_type": "code",
   "execution_count": 26,
   "metadata": {},
   "outputs": [
    {
     "name": "stdout",
     "output_type": "stream",
     "text": [
      "35\n"
     ]
    }
   ],
   "source": [
    "b = Person()\n",
    "b.age = 35\n",
    "print(b.age)"
   ]
  },
  {
   "cell_type": "code",
   "execution_count": 13,
   "metadata": {},
   "outputs": [],
   "source": [
    "import urllib.request as r"
   ]
  },
  {
   "cell_type": "code",
   "execution_count": 14,
   "metadata": {},
   "outputs": [
    {
     "data": {
      "text/plain": [
       "200"
      ]
     },
     "execution_count": 14,
     "metadata": {},
     "output_type": "execute_result"
    }
   ],
   "source": [
    "response = r.urlopen('http://www.google.co.kr')\n",
    "response.status"
   ]
  },
  {
   "cell_type": "markdown",
   "metadata": {},
   "source": [
    "-----------------------------"
   ]
  },
  {
   "cell_type": "code",
   "execution_count": 34,
   "metadata": {},
   "outputs": [],
   "source": [
    "a = '12:345:67'"
   ]
  },
  {
   "cell_type": "code",
   "execution_count": 35,
   "metadata": {},
   "outputs": [
    {
     "data": {
      "text/plain": [
       "['12', '345', '67']"
      ]
     },
     "execution_count": 35,
     "metadata": {},
     "output_type": "execute_result"
    }
   ],
   "source": [
    "a.split(':')"
   ]
  },
  {
   "cell_type": "markdown",
   "metadata": {},
   "source": [
    "생년월일을 입력 받아 홀수 번째 글자들로만 이루어진 문자열을 출력하는 프로그램"
   ]
  },
  {
   "cell_type": "code",
   "execution_count": 18,
   "metadata": {},
   "outputs": [
    {
     "name": "stdout",
     "output_type": "stream",
     "text": [
      "생년월일 입력(yyyymmdd) : 20190101\n"
     ]
    },
    {
     "data": {
      "text/plain": [
       "'2100'"
      ]
     },
     "execution_count": 18,
     "metadata": {},
     "output_type": "execute_result"
    }
   ],
   "source": [
    "a = input(\"생년월일 입력(yyyymmdd) : \")\n",
    "b = ''\n",
    "for i in range(0,8,2):\n",
    "    b = b + a[i]\n",
    "b"
   ]
  },
  {
   "cell_type": "markdown",
   "metadata": {},
   "source": [
    "문자열을 입력 받아 거꾸로 출력하는 프로그램"
   ]
  },
  {
   "cell_type": "code",
   "execution_count": 24,
   "metadata": {},
   "outputs": [
    {
     "name": "stdout",
     "output_type": "stream",
     "text": [
      "문자열을 입력하시오 : hello\n"
     ]
    },
    {
     "data": {
      "text/plain": [
       "'olleh'"
      ]
     },
     "execution_count": 24,
     "metadata": {},
     "output_type": "execute_result"
    }
   ],
   "source": [
    "a = input(\"문자열을 입력하시오 : \")\n",
    "b = ''\n",
    "for i in range(len(a)-1,-1,-1):\n",
    "    b = b + a[i]\n",
    "b"
   ]
  },
  {
   "cell_type": "markdown",
   "metadata": {},
   "source": [
    "----------------------------"
   ]
  },
  {
   "attachments": {
    "image.png": {
     "image/png": "[encoded data removed]"
    }
   },
   "cell_type": "markdown",
   "metadata": {},
   "source": [
    "## 다음과 같이 실행되는 프로그램을 작성하시오\n",
    "\n",
    "![image.png](attachment:image.png)"
   ]
  },
  {
   "cell_type": "code",
   "execution_count": 41,
   "metadata": {},
   "outputs": [
    {
     "name": "stdout",
     "output_type": "stream",
     "text": [
      "학생 수 : 3\n",
      "학번 : 1\n",
      "이름 : 김철수\n",
      "학번 : 2\n",
      "이름 : 홍길동\n",
      "학번 : 3\n",
      "이름 : 이영미\n",
      "입력된 값 :\n",
      "{1: '김철수', 2: '홍길동', 3: '이영미'}\n",
      "검색할 학번 : 2\n",
      "학번 2에 해당하는 학생의 이름은 홍길동입니다.\n",
      "계속 검색하시겠습니까? (y/n) : y\n",
      "검색할 학번 : 3\n",
      "학번 3에 해당하는 학생의 이름은 이영미입니다.\n",
      "계속 검색하시겠습니까? (y/n) : n\n"
     ]
    }
   ],
   "source": [
    "student = dict()\n",
    "a = int(input(\"학생 수 : \"))\n",
    "for i in range(a):\n",
    "    code = int(input(\"학번 : \"))\n",
    "    name = str(input(\"이름 : \"))\n",
    "    student[code] = name\n",
    "print(\"입력된 값 :\\n{0}\" .format(student))\n",
    "while(1):\n",
    "    b = int(input(\"검색할 학번 : \"))\n",
    "    print(\"학번 {0}에 해당하는 학생의 이름은 {1}입니다.\" .format(b, student.get(b)))\n",
    "    ans = input(\"계속 검색하시겠습니까? (y/n) : \")\n",
    "    if(ans == 'y'):\n",
    "        pass\n",
    "    else:\n",
    "        break"
   ]
  },
  {
   "attachments": {
    "image.png": {
     "image/png": "[encoded data removed]"
    }
   },
   "cell_type": "markdown",
   "metadata": {},
   "source": [
    "## Array를 이용하여 다음과 같이 실행되도록 작성하시오.\n",
    "![image.png](attachment:image.png)"
   ]
  },
  {
   "cell_type": "code",
   "execution_count": null,
   "metadata": {},
   "outputs": [],
   "source": []
  }
 ],
 "metadata": {
  "kernelspec": {
   "display_name": "Python 3",
   "language": "python",
   "name": "python3"
  },
  "language_info": {
   "codemirror_mode": {
    "name": "ipython",
    "version": 3
   },
   "file_extension": ".py",
   "mimetype": "text/x-python",
   "name": "python",
   "nbconvert_exporter": "python",
   "pygments_lexer": "ipython3",
   "version": "3.7.3"
  }
 },
 "nbformat": 4,
 "nbformat_minor": 2
}
